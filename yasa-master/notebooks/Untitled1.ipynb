{
 "cells": [
  {
   "cell_type": "code",
   "execution_count": null,
   "metadata": {},
   "outputs": [],
   "source": [
    "import yasa\n",
    "import numpy as np\n",
    "import matplotlib.pyplot as plt\n",
    "import scipy.signal as signal\n",
    "import seaborn as sns\n",
    "import pandas as pd\n",
    "sns.set(font_scale=1.2)\n",
    "import mne\n",
    "import glob"
   ]
  },
  {
   "cell_type": "code",
   "execution_count": null,
   "metadata": {},
   "outputs": [],
   "source": [
    "PATH = '/Users/ajsimon/Dropbox (Personal)/Data/Overnight PSG/'\n",
    "\n",
    "#create list of PSG files\n",
    "FILES = glob.glob(PATH + '*.edf')\n",
    "FILES.sort()\n",
    "\n",
    "#create list of hypnogram files  \n",
    "HYPNO = glob.glob(PATH + '*.csv')\n",
    "HYPNO.sort()\n",
    "\n",
    "#For this example, we will use the first file in the path, which is participant 01619\n",
    "f = 0"
   ]
  },
  {
   "cell_type": "code",
   "execution_count": 1,
   "metadata": {},
   "outputs": [
    {
     "ename": "NameError",
     "evalue": "name 'mne' is not defined",
     "output_type": "error",
     "traceback": [
      "\u001b[0;31m---------------------------------------------------------------------------\u001b[0m",
      "\u001b[0;31mNameError\u001b[0m                                 Traceback (most recent call last)",
      "\u001b[0;32m<ipython-input-1-e5e841c1938d>\u001b[0m in \u001b[0;36m<module>\u001b[0;34m\u001b[0m\n\u001b[1;32m      1\u001b[0m \u001b[0;31m#load PSG data from example participant\u001b[0m\u001b[0;34m\u001b[0m\u001b[0;34m\u001b[0m\u001b[0;34m\u001b[0m\u001b[0m\n\u001b[0;32m----> 2\u001b[0;31m \u001b[0meeg\u001b[0m \u001b[0;34m=\u001b[0m \u001b[0mmne\u001b[0m\u001b[0;34m.\u001b[0m\u001b[0mio\u001b[0m\u001b[0;34m.\u001b[0m\u001b[0mread_raw_edf\u001b[0m\u001b[0;34m(\u001b[0m\u001b[0mFILES\u001b[0m\u001b[0;34m[\u001b[0m\u001b[0mf\u001b[0m\u001b[0;34m]\u001b[0m\u001b[0;34m,\u001b[0m \u001b[0mpreload\u001b[0m\u001b[0;34m=\u001b[0m\u001b[0;32mTrue\u001b[0m\u001b[0;34m)\u001b[0m\u001b[0;34m\u001b[0m\u001b[0;34m\u001b[0m\u001b[0m\n\u001b[0m\u001b[1;32m      3\u001b[0m \u001b[0mpicks\u001b[0m \u001b[0;34m=\u001b[0m \u001b[0mmne\u001b[0m\u001b[0;34m.\u001b[0m\u001b[0mpick_types\u001b[0m\u001b[0;34m(\u001b[0m\u001b[0meeg\u001b[0m\u001b[0;34m.\u001b[0m\u001b[0minfo\u001b[0m\u001b[0;34m,\u001b[0m \u001b[0mmeg\u001b[0m\u001b[0;34m=\u001b[0m\u001b[0;32mFalse\u001b[0m\u001b[0;34m,\u001b[0m \u001b[0meeg\u001b[0m\u001b[0;34m=\u001b[0m\u001b[0;32mTrue\u001b[0m\u001b[0;34m,\u001b[0m \u001b[0meog\u001b[0m\u001b[0;34m=\u001b[0m\u001b[0;32mTrue\u001b[0m\u001b[0;34m)\u001b[0m\u001b[0;34m\u001b[0m\u001b[0;34m\u001b[0m\u001b[0m\n\u001b[1;32m      4\u001b[0m \u001b[0;34m\u001b[0m\u001b[0m\n\u001b[1;32m      5\u001b[0m \u001b[0;31m#select the channels where eeg was recorded, discard the rest\u001b[0m\u001b[0;34m\u001b[0m\u001b[0;34m\u001b[0m\u001b[0;34m\u001b[0m\u001b[0m\n",
      "\u001b[0;31mNameError\u001b[0m: name 'mne' is not defined"
     ]
    }
   ],
   "source": [
    "#load PSG data from example participant\n",
    "eeg = mne.io.read_raw_edf(FILES[f], preload=True)\n",
    "picks = mne.pick_types(eeg.info, meg=False, eeg=True, eog=True)\n",
    "\n",
    "#select the channels where eeg was recorded, discard the rest\n",
    "eeg.pick_channels(['M1-REF','M2-REF','F3-REF','F4-REF','C3-REF','C4-REF','O1-REF','O2-REF'])  # Select a subset of EEG channels\n",
    "\n",
    "#store EEG data into an e x t matrix, where e = num elecs and t = samples -- for visualization purposes\n",
    "data = eeg.get_data() \n",
    "\n",
    "#Display 10 seconds of raw data from F3\n",
    "fig, ax = plt.subplots(1, 1, figsize=(16, 4))\n",
    "plt.plot(data1[3,200000:204000])\n",
    "plt.ylabel('Amplitude (uV)')\n",
    "plt.ylim([-0.000210, -0.000170])"
   ]
  },
  {
   "cell_type": "code",
   "execution_count": null,
   "metadata": {},
   "outputs": [],
   "source": [
    "#preprocess PSG data\n",
    "# Apply a bandpass filter from 0.3 to 40 Hz \n",
    "eeg.filter(0.3, 40)             \n",
    "    \n",
    "#Downsample to SF \n",
    "SF = 100    #Define frequency to downsample to -- Nyquist rate is 90 Hz for resolving spectral power in frequencies up to 45 Hz (gamma = 30-45 Hz -- per Walsh et al., 2017) \n",
    "            #VERY IMPORTANT THAT THE SAMPLING RATE MUST BE KEPT ABOVE THIS\n",
    "            #Raw data is sampled at 400 Hz -- we don't need to downsample but can if we want to reduce size of data\n",
    "        \n",
    "eeg.resample(SF)   \n",
    "    \n",
    "#re-reference EEG to linked-mastoids, as opposed to the contralateral mastoid reference that the raw signal is referenced to\n",
    "eeg.set_eeg_reference(['M1-REF', 'M2-REF'])\n",
    "    \n",
    "#select the channels where eeg was recorded, discard the rest\n",
    "eeg.pick_channels(['F3-REF','F4-REF','C3-REF','C4-REF','O1-REF','O2-REF']) \n",
    "\n",
    "#store EEG data into an e x t matrix, where e = num elecs and t = samples -- for visualization purposes\n",
    "data = eeg.get_data() \n",
    "\n",
    "#Display 10 seconds of raw data from F3\n",
    "fig, ax = plt.subplots(1, 1, figsize=(16, 4))\n",
    "plt.plot(data[3,50000:51000])\n",
    "plt.ylabel('Amplitude (uV)')"
   ]
  }
 ],
 "metadata": {
  "kernelspec": {
   "display_name": "Python 3",
   "language": "python",
   "name": "python3"
  },
  "language_info": {
   "codemirror_mode": {
    "name": "ipython",
    "version": 3
   },
   "file_extension": ".py",
   "mimetype": "text/x-python",
   "name": "python",
   "nbconvert_exporter": "python",
   "pygments_lexer": "ipython3",
   "version": "3.7.6"
  }
 },
 "nbformat": 4,
 "nbformat_minor": 4
}
