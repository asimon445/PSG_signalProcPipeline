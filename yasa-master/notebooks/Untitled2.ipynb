{
 "cells": [
  {
   "cell_type": "code",
   "execution_count": null,
   "metadata": {},
   "outputs": [],
   "source": [
    "import yasa\n",
    "import numpy as np\n",
    "import matplotlib.pyplot as plt\n",
    "import scipy.signal as signal\n",
    "import seaborn as sns\n",
    "import pandas as pd\n",
    "sns.set(font_scale=1.2)\n",
    "import mne\n",
    "import glob"
   ]
  },
  {
   "cell_type": "code",
   "execution_count": null,
   "metadata": {},
   "outputs": [],
   "source": [
    "PATH = '/Users/ajsimon/Dropbox (Personal)/Data/Overnight PSG/Example/'\n",
    "\n",
    "#create list of PSG files\n",
    "FILES = glob.glob(PATH + '*.edf')\n",
    "FILES.sort()\n",
    "\n",
    "#create list of hypnogram files  \n",
    "HYPNO = glob.glob(PATH + '*.csv')\n",
    "HYPNO.sort()\n",
    "\n",
    "#For this example, we will use the first file in the path, which is participant 01619\n",
    "f = 0"
   ]
  },
  {
   "cell_type": "code",
   "execution_count": null,
   "metadata": {},
   "outputs": [],
   "source": [
    "#load PSG data from example participant\n",
    "eeg = mne.io.read_raw_edf(FILES[f], preload=True)\n",
    "picks = mne.pick_types(eeg.info, meg=False, eeg=True, eog=True)\n",
    "\n",
    "#select the channels where eeg was recorded, discard the rest\n",
    "eeg.pick_channels(['M1-REF','M2-REF','F3-REF','F4-REF','C3-REF','C4-REF','O1-REF','O2-REF'])  # Select a subset of EEG channels\n",
    "\n",
    "#store EEG data into an e x t matrix, where e = num elecs and t = samples -- for visualization purposes\n",
    "data = eeg.get_data() \n",
    "\n",
    "#convert data from Volts to µV\n",
    "data = data*1000000\n",
    "\n",
    "#Display 10 seconds of raw data from F3\n",
    "fig, ax = plt.subplots(1, 1, figsize=(16, 4))\n",
    "plt.plot(data[3,200000:204000])\n",
    "plt.ylabel('Amplitude (uV)')\n",
    "plt.ylim([-0.000210, -0.000170])"
   ]
  },
  {
   "cell_type": "code",
   "execution_count": null,
   "metadata": {},
   "outputs": [],
   "source": [
    "#preprocess PSG data\n",
    "# Apply a bandpass filter from 0.3 to 40 Hz \n",
    "eeg.filter(0.3, 40)             \n",
    "    \n",
    "#Downsample to SF \n",
    "SF = 100    #Define frequency to downsample to -- Nyquist rate is 90 Hz for resolving spectral power in frequencies up to 45 Hz (gamma = 30-45 Hz -- per Walsh et al., 2017) \n",
    "            #VERY IMPORTANT THAT THE SAMPLING RATE MUST BE KEPT ABOVE THIS\n",
    "            #Raw data is sampled at 400 Hz -- we don't need to downsample but can if we want to reduce size of data\n",
    "        \n",
    "eeg.resample(SF)   \n",
    "    \n",
    "#re-reference EEG to linked-mastoids, as opposed to the contralateral mastoid reference that the raw signal is referenced to\n",
    "eeg.set_eeg_reference(['M1-REF', 'M2-REF'])\n",
    "    \n",
    "#select the channels where eeg was recorded, discard the rest\n",
    "eeg.pick_channels(['F3-REF','F4-REF','C3-REF','C4-REF','O1-REF','O2-REF']) \n",
    "chan = eeg.ch_names\n",
    "\n",
    "#store EEG data into an e x t matrix, where e = num elecs and t = samples -- for visualization purposes\n",
    "data = eeg.get_data() \n",
    "\n",
    "#Display 10 seconds of raw data from F3\n",
    "fig, ax = plt.subplots(1, 1, figsize=(16, 4))\n",
    "plt.plot(data[3,50000:51000])\n",
    "plt.ylabel('Amplitude (uV)')"
   ]
  },
  {
   "cell_type": "code",
   "execution_count": null,
   "metadata": {},
   "outputs": [],
   "source": [
    "### Import hypnogram\n",
    "hypnog = np.loadtxt(fname = HYPNO[f],dtype = 'str',delimiter = ',',skiprows=5)  \n",
    "        \n",
    "#transform hypnogram file into single column vector of stage info\n",
    "hypnog = hypnog[:,3]\n",
    "    \n",
    "#upsample the hypnogram to have the same sampling freq as the EEG data   \n",
    "hypno_up = yasa.hypno_upsample_to_data(hypno=hypnog, sf_hypno=(1/30), data=data, sf_data=SF)\n",
    "print(hypno_up.size == data.shape[1])  # Does the hypnogram have the same number of samples as data?\n",
    "print(hypno_up.size, 'samples:', hypno_up)\n",
    "\n",
    "#plot spectrogram\n",
    "fig = yasa.plot_spectrogram(data[0,], SF, hypno=hypno_up, fmax=30, cmap='Spectral_r', trimperc=5)"
   ]
  },
  {
   "cell_type": "code",
   "execution_count": null,
   "metadata": {},
   "outputs": [],
   "source": [
    "### Artifact rejection\n",
    "art, zscores = yasa.art_detect(data, SF, window=5, method='covar', threshold=3)\n",
    "art.shape, zscores.shape\n",
    "    \n",
    "print(f'{art.sum()} / {art.size} epochs rejected.')"
   ]
  },
  {
   "cell_type": "code",
   "execution_count": null,
   "metadata": {},
   "outputs": [],
   "source": [
    "### Plot the artifact vector\n",
    "plt.plot(art);\n",
    "plt.yticks([0, 1], labels=['Good (0)', 'Art (1)']);"
   ]
  },
  {
   "cell_type": "code",
   "execution_count": null,
   "metadata": {},
   "outputs": [],
   "source": [
    "### Plot a histogram of z-score distributions\n",
    "sns.distplot(zscores)\n",
    "plt.title('Histogram of z-scores')\n",
    "plt.xlabel('Z-scores')\n",
    "plt.ylabel('Density')\n",
    "plt.axvline(2, color='r', label='Threshold')\n",
    "plt.axvline(-2, color='r')\n",
    "plt.legend(frameon=False);"
   ]
  },
  {
   "cell_type": "code",
   "execution_count": null,
   "metadata": {},
   "outputs": [],
   "source": [
    "from scipy.special import erf\n",
    "threshold = 3\n",
    "perc_expected_rejected = (1 - erf(threshold / np.sqrt(2))) * 100\n",
    "print(f'{perc_expected_rejected:.2f}% of all epochs are expected to be rejected.')\n",
    "\n",
    "# Actual\n",
    "(art.sum() / art.size) * 100\n",
    "print(f'{(art.sum() / art.size) * 100:.2f}% of all epochs were actually rejected.')\n",
    "\n",
    "# The resolution of art is 5 seconds, so its sampling frequency is 1/5 (= 0.2 Hz)\n",
    "sf_art = 1 / 5\n",
    "art_up = yasa.hypno_upsample_to_data(art, sf_art, data, SF)\n",
    "art_up.shape, hypno_up.shape\n",
    "\n",
    "# Add -1 to hypnogram where artifacts were detected\n",
    "hypno_with_art = hypno_up.copy()\n",
    "hypno_with_art[art_up] = -1\n",
    "\n",
    "# Proportion of each stage in ``hypno_with_art``\n",
    "pd.Series(hypno_with_art).value_counts(normalize=True)\n",
    "\n",
    "# Plot new hypnogram and spectrogram on Fz\n",
    "yasa.plot_spectrogram(data[0, :], SF, hypno_with_art);"
   ]
  },
  {
   "cell_type": "code",
   "execution_count": null,
   "metadata": {},
   "outputs": [],
   "source": [
    "### Slow wave detection\n",
    "sw = yasa.sw_detect(data, SF, ch_names=chan, hypno=hypno_with_art, include=(2, 3), freq_sw=(0.5, 1.6))\n",
    "\n",
    "# Get the average per channel and stage\n",
    "sw.summary(grp_chan=True, grp_stage=True, aggfunc='mean')\n",
    "\n",
    "# Plot an average template of the detected slow-waves, centered around the negative peak\n",
    "ax = sw.plot_average(center=\"NegPeak\", time_before=0.4, time_after=0.8, palette=\"Set1\")\n",
    "ax.legend(frameon=False)\n",
    "sns.despine()"
   ]
  }
 ],
 "metadata": {
  "kernelspec": {
   "display_name": "Python 3",
   "language": "python",
   "name": "python3"
  },
  "language_info": {
   "codemirror_mode": {
    "name": "ipython",
    "version": 3
   },
   "file_extension": ".py",
   "mimetype": "text/x-python",
   "name": "python",
   "nbconvert_exporter": "python",
   "pygments_lexer": "ipython3",
   "version": "3.7.6"
  }
 },
 "nbformat": 4,
 "nbformat_minor": 4
}
